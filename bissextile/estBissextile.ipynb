{
 "cells": [
  {
   "cell_type": "markdown",
   "metadata": {},
   "source": [
    "# Exercice : année bissextile ?"
   ]
  },
  {
   "cell_type": "markdown",
   "metadata": {},
   "source": [
    "Vous allez devoir compléter une fonction qui, pour une année passée en paramètre, retourne si elle est bissextile (**True**) ou non (**False**)."
   ]
  },
  {
   "cell_type": "markdown",
   "metadata": {},
   "source": [
    "- *Exécutez la cellule suivante sans la modifier.*"
   ]
  },
  {
   "cell_type": "code",
   "execution_count": 4,
   "metadata": {},
   "outputs": [],
   "source": [
    "from corexos.bissextile import exo_estBissextile"
   ]
  },
  {
   "cell_type": "markdown",
   "metadata": {},
   "source": [
    "- *Exécutez la cellule suivante pour obtenir des exemples de retour de fonction*"
   ]
  },
  {
   "cell_type": "code",
   "execution_count": 3,
   "metadata": {},
   "outputs": [
    {
     "data": {
      "text/html": [
       "<table style='font-family:monospace;font-size:small;'><tr style='font-family:monospace;font-size:medium;'><th style='text-align: center;'><pre>Appel</pre></th><th style='text-align: center;'><pre>Resultat Attendu</pre></th></tr><tr><td><pre>estBissextile(2000)</pre></td><td style='text-align: left;border-left:3px solid gray;'><pre>\n",
       "False</pre></td></tr><tr><td><pre>estBissextile(2019)</pre></td><td style='text-align: left;border-left:3px solid gray;'><pre>\n",
       "False</pre></td></tr><tr><td><pre>estBissextile(2020)</pre></td><td style='text-align: left;border-left:3px solid gray;'><pre>\n",
       "True</pre></td></tr><tr><td><pre>estBissextile(2100)</pre></td><td style='text-align: left;border-left:3px solid gray;'><pre>\n",
       "True</pre></td></tr></table>"
      ],
      "text/plain": [
       "<IPython.core.display.HTML object>"
      ]
     },
     "execution_count": 3,
     "metadata": {},
     "output_type": "execute_result"
    }
   ],
   "source": [
    "exo_estBissextile.example(4)"
   ]
  },
  {
   "cell_type": "markdown",
   "metadata": {},
   "source": [
    "- *Complétez la fonction suivante. Ne surtout pas modifier son nom*."
   ]
  },
  {
   "cell_type": "code",
   "execution_count": 6,
   "metadata": {},
   "outputs": [],
   "source": [
    "def estBissextile(annee):\n",
    "    \"\"\"Fonction retournant si l'année annee est bissextile (True) ou pas (False) \n",
    "    annee est un nombre\n",
    "    la fonction retourne True ou False\n",
    "    \"\"\"\n",
    "    # à compléter et modifier\n",
    "    return False\n"
   ]
  },
  {
   "cell_type": "markdown",
   "metadata": {},
   "source": [
    "- *Exécuter la cellule suivante, sans la modifier, pour tester votre fonction.*"
   ]
  },
  {
   "cell_type": "code",
   "execution_count": 7,
   "metadata": {},
   "outputs": [
    {
     "data": {
      "text/html": [
       "<table style='font-family:monospace;font-size:small;'><tr style='font-family:monospace;font-size:medium;'><th style='text-align: center;'><pre>Appel</pre></th><th style='text-align: center;'><pre>Attendu</pre></th><th style='text-align: center;'><pre>Obtenu</pre></th><th style='text-align: center;'><pre></pre></th></tr><tr style='background-color:#d6e9ce;border-bottom:2px solid gray;'><td><pre>estBissextile(2000)</pre></td><td style='text-align: left;border-left:3px solid gray;'><pre>\n",
       "False</pre></td><td style='text-align: left;border-left:1px solid gray;'><pre>\n",
       "False</pre></td><td style='border-left:3px solid gray;'><pre>OK</pre></td></tr><tr style='background-color:#d6e9ce;border-bottom:2px solid gray;'><td><pre>estBissextile(2019)</pre></td><td style='text-align: left;border-left:3px solid gray;'><pre>\n",
       "False</pre></td><td style='text-align: left;border-left:1px solid gray;'><pre>\n",
       "False</pre></td><td style='border-left:3px solid gray;'><pre>OK</pre></td></tr><tr style='background-color:#efd6d6;border-bottom:2px solid gray;'><td><pre>estBissextile(2020)</pre></td><td style='text-align: left;border-left:3px solid gray;'><pre>\n",
       "True</pre></td><td style='text-align: left;border-left:1px solid gray;'><pre>\n",
       "False</pre></td><td style='border-left:3px solid gray;'><pre>KO</pre></td></tr><tr style='background-color:#efd6d6;border-bottom:2px solid gray;'><td><pre>estBissextile(2100)</pre></td><td style='text-align: left;border-left:3px solid gray;'><pre>\n",
       "True</pre></td><td style='text-align: left;border-left:1px solid gray;'><pre>\n",
       "False</pre></td><td style='border-left:3px solid gray;'><pre>KO</pre></td></tr></table>"
      ],
      "text/plain": [
       "<IPython.core.display.HTML object>"
      ]
     },
     "execution_count": 7,
     "metadata": {},
     "output_type": "execute_result"
    }
   ],
   "source": [
    "exo_estBissextile.correction(estBissextile)"
   ]
  },
  {
   "cell_type": "code",
   "execution_count": null,
   "metadata": {},
   "outputs": [],
   "source": []
  }
 ],
 "metadata": {
  "kernelspec": {
   "display_name": "Python 3",
   "language": "python",
   "name": "python3"
  },
  "language_info": {
   "codemirror_mode": {
    "name": "ipython",
    "version": 3
   },
   "file_extension": ".py",
   "mimetype": "text/x-python",
   "name": "python",
   "nbconvert_exporter": "python",
   "pygments_lexer": "ipython3",
   "version": "3.7.1"
  }
 },
 "nbformat": 4,
 "nbformat_minor": 2
}
